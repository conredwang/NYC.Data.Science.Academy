{
 "cells": [
  {
   "cell_type": "code",
   "execution_count": 1,
   "metadata": {
    "collapsed": false
   },
   "outputs": [],
   "source": [
    "# BRCF..ipynb \n",
    "import numpy as np\n",
    "import pandas as pd\n",
    "from math import sqrt"
   ]
  },
  {
   "cell_type": "code",
   "execution_count": 2,
   "metadata": {
    "collapsed": false
   },
   "outputs": [
    {
     "data": {
      "text/plain": [
       "'\\nMarcel Caraciolo suggested a collaborative filtering algorithm simply using distance-base similarity score\\n[http://aimotion.blogspot.com/2009/11/collaborative-filtering-implementation.html].  \\n\\nWe tried his approach on Book-Crossing Dataset [http://www2.informatik.uni-freiburg.de/~cziegler/BX/].\\n\\nSince this dataset has many zero implicit ratings, we replaced these ratings with average ratings if available.\\nThen we also tried his approach with our enhanced dataset to examine how more ratings impact collaborative filtering.\\n'"
      ]
     },
     "execution_count": 2,
     "metadata": {},
     "output_type": "execute_result"
    }
   ],
   "source": [
    "\"\"\"\n",
    "Marcel Caraciolo suggested a collaborative filtering algorithm simply using distance-base similarity score\n",
    "[http://aimotion.blogspot.com/2009/11/collaborative-filtering-implementation.html].  \n",
    "\n",
    "We tried his approach on Book-Crossing Dataset [http://www2.informatik.uni-freiburg.de/~cziegler/BX/].\n",
    "\n",
    "Since this dataset has many zero implicit ratings, we replaced these ratings with average ratings if available.\n",
    "Then we also tried his approach with our enhanced dataset to examine how more ratings impact collaborative filtering.\n",
    "\"\"\""
   ]
  },
  {
   "cell_type": "code",
   "execution_count": null,
   "metadata": {
    "collapsed": true
   },
   "outputs": [],
   "source": [
    "\"\"\"\n",
    "Data Structures\n",
    "\n",
    "We use two types of 2D matrices, implemented using Python dictionary, to capture the user-item-rating information.\n",
    "\n",
    "1. prefs\n",
    "* In order to provide recommendation for a user, 2D prefs marix will have users as rows and items as columns.\n",
    "** i.e., rating stores as prefs[user][item] \n",
    "* We provide two prefs matrices:\n",
    "1a. prefsLess which is based on non-zero ratings from original dataset.\n",
    "1b. prefsMore which includes prefsLess plus additional non-zero ratings by imputing average ratings. \n",
    "\n",
    "2. critics\n",
    "* In order to provide recommendation for an item, 2D critics marix will have items as rows and users as columns.\n",
    "** i.e., rating stores as critics[item][user] \n",
    "* We provide two critics matrices:\n",
    "2a. criticsLess which is a re-arrangement of prefsLess.  \n",
    "2b. criticsMore which is a re-arrangement of prefsMore.  \n",
    "\n",
    "\"\"\""
   ]
  },
  {
   "cell_type": "code",
   "execution_count": 3,
   "metadata": {
    "collapsed": true
   },
   "outputs": [],
   "source": [
    "\"\"\"\n",
    "* Build prefsLess using BX-Books.csv and BX-Book-Ratings.csv.\n",
    "* Both files are from original Book-Crossing Dataset.  \n",
    "* They use \";\" as field separator.\n",
    "\"\"\"\n",
    "def buildPrefsLess():\n",
    "\t#Load books information\n",
    "\tbooks = {}\n",
    "\tfor line in open(\"data/BX-Books.csv\"):\n",
    "\t\tline = line.replace('\"', \"\")\n",
    "\t\t(id,title) = line.split(\";\")[0:2]\n",
    "\t\tbooks[id] = title\n",
    "\t\n",
    "\t#Load ratings information\n",
    "\tprefs = {}\n",
    "\tcountValueError = 0\n",
    "\tcountKeyError = 0\n",
    "\tfor line in open(\"data/BX-Book-Ratings.csv\"):\n",
    "\t\tline = line.replace('\"', \"\")\n",
    "\t\tline = line.replace(\"\\\\\",\"\")\n",
    "\t\t(user,bookid,rating) = line.split(\";\")[0:3]\n",
    "\t\ttry:\n",
    "\t\t\tif float(rating) > 0.0:\n",
    "\t\t\t\tprefs.setdefault(user,{})\n",
    "\t\t\t\tprefs[user][books[bookid]] = float(rating)\n",
    "\t\texcept ValueError:\n",
    "\t\t\tcountValueError += 1\n",
    "\t\texcept KeyError:\n",
    "\t\t\tcountKeyError += 1\n",
    "\tprint \"# .Value Error : \" + str(countValueError)\n",
    "\tprint \"# ...Key Error : \" + str(countKeyError)\n",
    "\treturn prefs"
   ]
  },
  {
   "cell_type": "code",
   "execution_count": 4,
   "metadata": {
    "collapsed": false
   },
   "outputs": [
    {
     "name": "stdout",
     "output_type": "stream",
     "text": [
      "# .Value Error : 1\n",
      "# ...Key Error : 49818\n"
     ]
    }
   ],
   "source": [
    "prefsLess = buildPrefsLess()"
   ]
  },
  {
   "cell_type": "code",
   "execution_count": 5,
   "metadata": {
    "collapsed": true
   },
   "outputs": [],
   "source": [
    "\"\"\"\n",
    "* Build prefsMore using MC.Books.csv and Good.Ratings.csv.\n",
    "* They are based on BX-Books.csv and BX-Book-Ratings.csv, \n",
    "  with some data cleaning and zero-ratings replacement (with average ratings) when available.  \n",
    "* They use \",\" as field separator.\n",
    "\"\"\"\n",
    "def buildPrefsMore():\n",
    "\t#Load books information\n",
    "\tbooks = {}\n",
    "\tfor line in open(\"data/MC.Books.csv\"):\n",
    "\t\tline = line.replace('\"', \"\")\n",
    "\t\tline = line.replace(\"\\\\\",\"\")\n",
    "\t\tline = line.replace(\"\\n\",\"\")                \n",
    "\t\t(id,title) = line.split(\",\")[0:2]\n",
    "\t\tbooks[id] = title\n",
    "\t\n",
    "\t#Load ratings information\n",
    "\tprefs = {}\n",
    "\tcountValueError = 0\n",
    "\tcountKeyError = 0\n",
    "\tfor line in open(\"data/Good.Ratings.csv\"):\n",
    "\t\tline = line.replace('\"', \"\")\n",
    "\t\tline = line.replace(\"\\\\\",\"\")\n",
    "\t\tline = line.replace(\"\\n\",\"\")        \n",
    "\t\t(user,bookid,rating) = line.split(\",\")[0:3]\n",
    "\t\ttry:\n",
    "\t\t\tif float(rating) > 0.0:\n",
    "\t\t\t\tprefs.setdefault(user,{})\n",
    "\t\t\t\tprefs[user][books[bookid]] = float(rating)\n",
    "\t\texcept ValueError:\n",
    "\t\t\tcountValueError += 1\n",
    "\t\texcept KeyError:\n",
    "\t\t\tcountKeyError += 1\n",
    "\tprint \"# .Value Error : \" + str(countValueError)\n",
    "\tprint \"# ...Key Error : \" + str(countKeyError)\n",
    "\treturn prefs"
   ]
  },
  {
   "cell_type": "code",
   "execution_count": 6,
   "metadata": {
    "collapsed": false
   },
   "outputs": [
    {
     "name": "stdout",
     "output_type": "stream",
     "text": [
      "# .Value Error : 2\n",
      "# ...Key Error : 76127\n"
     ]
    }
   ],
   "source": [
    "prefsMore = buildPrefsMore()"
   ]
  },
  {
   "cell_type": "code",
   "execution_count": 7,
   "metadata": {
    "collapsed": false
   },
   "outputs": [
    {
     "name": "stdout",
     "output_type": "stream",
     "text": [
      "# prefsLess values : 382807\n",
      "# prefsLess values : 846584\n"
     ]
    }
   ],
   "source": [
    "print \"# prefsLess values : \" + str(sum(len(v) for v in prefsLess.itervalues()))\n",
    "print \"# prefsLess values : \" + str(sum(len(v) for v in prefsMore.itervalues()))"
   ]
  },
  {
   "cell_type": "code",
   "execution_count": 8,
   "metadata": {
    "collapsed": false
   },
   "outputs": [
    {
     "name": "stdout",
     "output_type": "stream",
     "text": [
      "prefsLess['98556'] :  {'Foundation (Foundation Novels (Paperback))': 7.0}\n",
      "prefsMore['98556'] :  {'Foundation (Foundation Novels (Paperback))': 7.0}\n"
     ]
    }
   ],
   "source": [
    "\"\"\"\n",
    "Spot check.  Same.\n",
    "\"\"\"\n",
    "print \"prefsLess['98556'] : \", prefsLess['98556']\n",
    "print \"prefsMore['98556'] : \", prefsMore['98556']"
   ]
  },
  {
   "cell_type": "code",
   "execution_count": 9,
   "metadata": {
    "collapsed": false
   },
   "outputs": [
    {
     "name": "stdout",
     "output_type": "stream",
     "text": [
      "prefsLess['180727'] :  {'Foundation (Foundation Novels (Paperback))': 3.0, 'Brave New World': 6.0, 'Jeeves in the morning (Perennial library)': 7.0, 'Foundation and Empire (Foundation Novels (Paperback))': 4.0, \"Foundation's Edge : The Foundation Novels (Foundation Novels (Paperback))\": 3.0, 'Second Foundation (Foundation Novels (Paperback))': 4.0}\n",
      "prefsMore['180727'] :  {'Foundation (Foundation Novels (Paperback))': 3.0, 'Brave New World': 6.0, 'Jeeves in the morning (Perennial library)': 7.0, 'Foundation and Empire (Foundation Novels (Paperback))': 4.0, \"Foundation's Edge : The Foundation Novels (Foundation Novels (Paperback))\": 3.0, 'Second Foundation (Foundation Novels (Paperback))': 4.0}\n"
     ]
    }
   ],
   "source": [
    "\"\"\"\n",
    "Spot check. Same.\n",
    "\"\"\"\n",
    "print \"prefsLess['180727'] : \", prefsLess['180727']\n",
    "print \"prefsMore['180727'] : \", prefsMore['180727']"
   ]
  },
  {
   "cell_type": "code",
   "execution_count": 10,
   "metadata": {
    "collapsed": false
   },
   "outputs": [
    {
     "name": "stdout",
     "output_type": "stream",
     "text": [
      "False\n",
      "True\n",
      "prefsMore['276725'] :  {'Flesh Tones: A Novel': 6.0}\n"
     ]
    }
   ],
   "source": [
    "\"\"\"\n",
    "Spot check. prefsMore has user 276725, but not found in prefsLess.\n",
    "\n",
    "In \"BX-Book-Ratings.csv\", user \"276725\" has only 1 entry and with zero rating:\n",
    "> bc7_cwang@nodeD:~/Book.Recommendation.CF$ grep '\"276725\"' data/BX-Book-Ratings.csv \n",
    "> \"276725\";\"034545104X\";\"0\" # According to Amazon, <ISBN-10: 034545104X> is for hardcover <Flesh Tones>.\n",
    "Since \"Good.Ratings.csv\" has average rating 6 for <Flesh Tones>, prefsMore capture the rating.\n",
    "\"\"\"\n",
    "print prefsLess.has_key('276725')\n",
    "print prefsMore.has_key('276725')\n",
    "print \"prefsMore['276725'] : \", prefsMore['276725']"
   ]
  },
  {
   "cell_type": "code",
   "execution_count": 11,
   "metadata": {
    "collapsed": true
   },
   "outputs": [],
   "source": [
    "\"\"\"\n",
    "Function transform from prefs[user][item] to critics[item][user].\n",
    "\"\"\"\n",
    "def transformPrefs(prefs):\n",
    "\tresults = {}\n",
    "\tfor user in prefs:\n",
    "\t\tfor item in prefs[user]:\n",
    "\t\t\tresults.setdefault(item,{})\n",
    "\t\t\t#Flip item and user\n",
    "\t\t\tresults[item][user] = prefs[user][item]\n",
    "\treturn results"
   ]
  },
  {
   "cell_type": "code",
   "execution_count": 12,
   "metadata": {
    "collapsed": false
   },
   "outputs": [],
   "source": [
    "criticsLess = transformPrefs(prefsLess)\n",
    "criticsMore = transformPrefs(prefsMore)"
   ]
  },
  {
   "cell_type": "code",
   "execution_count": 13,
   "metadata": {
    "collapsed": false
   },
   "outputs": [
    {
     "name": "stdout",
     "output_type": "stream",
     "text": [
      "# criticsLess values : 382807\n",
      "# criticsLess values : 846584\n"
     ]
    }
   ],
   "source": [
    "print \"# criticsLess values : \" + str(sum(len(v) for v in criticsLess.itervalues()))\n",
    "print \"# criticsLess values : \" + str(sum(len(v) for v in criticsMore.itervalues()))"
   ]
  },
  {
   "cell_type": "code",
   "execution_count": 14,
   "metadata": {
    "collapsed": true
   },
   "outputs": [],
   "source": [
    "\"\"\"\n",
    "Functions calculate distance-base similarity score:\n",
    "1. sim_euclidean : calculate the Euclidean distance between user1 and user2.\n",
    "2. sim_pearson   : calculate the Pearson correlation coefficient for user1 and user2.\n",
    "\"\"\"\n",
    "\n",
    "# --- sim_euclidean --------------------\n",
    "\n",
    "def sim_euclidean(prefs, user1, user2):\n",
    "\t#Get the list of shared_items\n",
    "\tsi = {}\n",
    "\tfor item in prefs[user1]:\n",
    "\t\tif item in prefs[user2]:\n",
    "\t\t\tsi[item] = 1\n",
    "\n",
    "\t#if they have no rating in common, return 0\n",
    "\tif len(si) == 0: \n",
    "\t\treturn 0\n",
    "\n",
    "\t#Add up the squares of all differences\n",
    "\tsum_of_squares = sum([pow(prefs[user1][item]-prefs[user2][item],2) for item in prefs[user1] if item in prefs[user2]])\n",
    "\n",
    "\treturn 1 / (1 + sum_of_squares)\n",
    "\n",
    "# --- sim_pearson --------------------\n",
    "\n",
    "def sim_pearson(prefs, user1, user2):\n",
    "\t#Get the list of mutually rated items\n",
    "\tsi = {}\n",
    "\tfor item in prefs[user1]:\n",
    "\t\tif item in prefs[user2]: \n",
    "\t\t\tsi[item] = 1\n",
    "\n",
    "\t#if they are no rating in common, return 0\n",
    "\tif len(si) == 0:\n",
    "\t\treturn 0\n",
    "\n",
    "\t#sum calculations\n",
    "\tn = len(si)\n",
    "\n",
    "\t#sum of all preferences\n",
    "\tsum1 = sum([prefs[user1][it] for it in si])\n",
    "\tsum2 = sum([prefs[user2][it] for it in si])\n",
    "\n",
    "\t#Sum of the squares\n",
    "\tsum1Sq = sum([pow(prefs[user1][it],2) for it in si])\n",
    "\tsum2Sq = sum([pow(prefs[user2][it],2) for it in si])\n",
    "\n",
    "\t#Sum of the products\n",
    "\tpSum = sum([prefs[user1][it] * prefs[user2][it] for it in si])\n",
    "\n",
    "\t#Calculate r (Pearson score)\n",
    "\tnum = pSum - (sum1 * sum2/n)\n",
    "\tden = sqrt((sum1Sq - pow(sum1,2)/n) * (sum2Sq - pow(sum2,2)/n))\n",
    "\tif den == 0:\n",
    "\t\treturn 0\n",
    "\n",
    "\tr = num/den\n",
    "\n",
    "\treturn r"
   ]
  },
  {
   "cell_type": "code",
   "execution_count": 15,
   "metadata": {
    "collapsed": true
   },
   "outputs": [],
   "source": [
    "\"\"\"\n",
    "Returns the best matches for user from the prefs dictionary\n",
    "Number of the results and similiraty function are optional params.\n",
    "\"\"\"\n",
    "\n",
    "def topMatches(prefs, user, n=5, similarity=sim_pearson):\n",
    "\tscores = [(similarity(prefs,user,other),other)\n",
    "\t\t\t\tfor other in prefs if other != user]\n",
    "\tscores.sort()\n",
    "\tscores.reverse()\n",
    "\treturn scores[0:n]"
   ]
  },
  {
   "cell_type": "code",
   "execution_count": 16,
   "metadata": {
    "collapsed": false
   },
   "outputs": [],
   "source": [
    "\"\"\"\n",
    "Gets recommendations for a user by using a weighted average\n",
    "of every other user's rankings\n",
    "\"\"\"\n",
    "\n",
    "def getRecommendations(prefs, user, similarity=sim_pearson):\n",
    "\ttotals = {}\n",
    "\tsimSums = {}\n",
    "\n",
    "\tfor other in prefs:\n",
    "\t\t#don't compare me to myself\n",
    "\t\tif other == user:\n",
    "\t\t\tcontinue\n",
    "\t\tsim = similarity(prefs,user,other)\n",
    "\n",
    "\t\t#ignore scores of zero or lower\n",
    "\t\tif sim <= 0: \n",
    "\t\t\tcontinue\n",
    "\t\tfor item in prefs[other]:\n",
    "\t\t\t#only score books i haven't seen yet\n",
    "\t\t\tif item not in prefs[user] or prefs[user][item] == 0:\n",
    "\t\t\t\t#Similarity * score\n",
    "\t\t\t\ttotals.setdefault(item,0)\n",
    "\t\t\t\ttotals[item] += prefs[other][item] * sim\n",
    "\t\t\t\t#Sum of similarities\n",
    "\t\t\t\tsimSums.setdefault(item,0)\n",
    "\t\t\t\tsimSums[item] += sim\n",
    "\n",
    "\t#Create the normalized list\n",
    "\trankings = [(total/simSums[item],item) for item,total in totals.items()]\n",
    "\n",
    "\t#Return the sorted list\n",
    "\trankings.sort()\n",
    "\trankings.reverse()\n",
    "\treturn rankings"
   ]
  },
  {
   "cell_type": "code",
   "execution_count": 17,
   "metadata": {
    "collapsed": false
   },
   "outputs": [
    {
     "name": "stdout",
     "output_type": "stream",
     "text": [
      "<<topMatches(prefsLess, '177432', 10, sim_euclidean)>>\n",
      "[(1.0, '98575'), (1.0, '98484'), (1.0, '98230'), (1.0, '97968'), (1.0, '97721'), (1.0, '96463'), (1.0, '96440'), (1.0, '95567'), (1.0, '95173'), (1.0, '9502')]\n",
      "<<topMatches(prefsMore, '177432', 10, sim_euclidean)>>\n",
      "[(1.0, '99630'), (1.0, '99051'), (1.0, '98686'), (1.0, '98618'), (1.0, '98575'), (1.0, '98484'), (1.0, '98422'), (1.0, '98230'), (1.0, '98159'), (1.0, '97968')]\n",
      "<<topMatches(prefsLess, '177432', 10, sim_pearson)>>\n",
      "[(1.0000000000000107, '199515'), (1.0000000000000107, '110112'), (1.000000000000007, '94923'), (1.000000000000007, '51883'), (1.000000000000007, '259320'), (1.0000000000000033, '89602'), (1.0000000000000018, '94307'), (1.0, '99766'), (1.0, '98026'), (1.0, '97324')]\n",
      "<<topMatches(prefsMore, '177432', 10, sim_pearson)>>\n",
      "[(1.000000000000016, '69554'), (1.000000000000016, '62755'), (1.000000000000016, '45557'), (1.000000000000016, '38464'), (1.000000000000016, '237154'), (1.000000000000016, '222716'), (1.000000000000016, '217106'), (1.000000000000016, '207499'), (1.000000000000016, '201674'), (1.000000000000016, '145641')]\n",
      " \n",
      "<<topMatches(prefsLess, '180727', 10, sim_euclidean)>>\n",
      "[(1.0, '48999'), (1.0, '4483'), (1.0, '39159'), (1.0, '246759'), (1.0, '243917'), (1.0, '209707'), (1.0, '179327'), (0.5, '96913'), (0.5, '95287'), (0.5, '87911')]\n",
      "<<topMatches(prefsMore, '180727', 10, sim_euclidean)>>\n",
      "[(1.0, '48999'), (1.0, '4483'), (1.0, '39159'), (1.0, '246759'), (1.0, '243917'), (1.0, '209707'), (1.0, '179327'), (0.5, '96913'), (0.5, '95287'), (0.5, '87911')]\n",
      "<<topMatches(prefsLess, '180727', 10, sim_pearson)>>\n",
      "[(1.0, '189139'), (1.0, '11676'), (0.6622661785325219, '177432'), (0, '99998'), (0, '99997'), (0, '99996'), (0, '99993'), (0, '99987'), (0, '99980'), (0, '99973')]\n",
      "<<topMatches(prefsMore, '180727', 10, sim_pearson)>>\n",
      "[(1.000000000000016, '171818'), (1.0, '86202'), (1.0, '32773'), (1.0, '224646'), (1.0, '189139'), (1.0, '184299'), (1.0, '154070'), (1.0, '11676'), (0.9449111825230734, '155463'), (0.8660254037844402, '3165')]\n"
     ]
    }
   ],
   "source": [
    "\"\"\"\n",
    "Let's try to find top 10 users like user 177432 and 180727.\n",
    "* Case-1 : user 177432\n",
    "** Top 10 selected by euclidean are different than pearson.\n",
    "** Top 10 selected by euclidean are different when available number of ratings are different,\n",
    "   although all selected scores are the same (1.0).\n",
    "** Top 10 selected by pearson are different when available number of ratings are different.\n",
    "   When more ratings areavailable, pearson select more higher scores candidates.    \n",
    "* Case-2 : user 180727\n",
    "** Top 10 selected by euclidean are different than pearson.\n",
    "** Top 10 selected by euclidean are the same  number.\n",
    "** Top 10 selected by pearson are different when available number of ratings are different.\n",
    "   When less ratings areavailable, pearson select only 3 candidates with non-zero scores.\n",
    "   When more ratings areavailable, pearson select all 10 candidates with non-zero scores. \n",
    "\"\"\"\n",
    "print \"<<topMatches(prefsLess, '177432', 10, sim_euclidean)>>\"\n",
    "print topMatches(prefsLess, '177432', 10, sim_euclidean)\n",
    "print \"<<topMatches(prefsMore, '177432', 10, sim_euclidean)>>\"\n",
    "print topMatches(prefsMore, '177432', 10, sim_euclidean)\n",
    "print \"<<topMatches(prefsLess, '177432', 10, sim_pearson)>>\"\n",
    "print topMatches(prefsLess, '177432', 10, sim_pearson)\n",
    "print \"<<topMatches(prefsMore, '177432', 10, sim_pearson)>>\"\n",
    "print topMatches(prefsMore, '177432', 10, sim_pearson)\n",
    "print \" \"\n",
    "print \"<<topMatches(prefsLess, '180727', 10, sim_euclidean)>>\"\n",
    "print topMatches(prefsLess, '180727', 10, sim_euclidean)\n",
    "print \"<<topMatches(prefsMore, '180727', 10, sim_euclidean)>>\"\n",
    "print topMatches(prefsMore, '180727', 10, sim_euclidean)\n",
    "print \"<<topMatches(prefsLess, '180727', 10, sim_pearson)>>\"\n",
    "print topMatches(prefsLess, '180727', 10, sim_pearson)\n",
    "print \"<<topMatches(prefsMore, '180727', 10, sim_pearson)>>\"\n",
    "print topMatches(prefsMore, '180727', 10, sim_pearson)"
   ]
  },
  {
   "cell_type": "code",
   "execution_count": 18,
   "metadata": {
    "collapsed": false
   },
   "outputs": [
    {
     "name": "stdout",
     "output_type": "stream",
     "text": [
      "<<getRecommendations(prefsLess, '177432', sim_euclidean)[0:5]>>\n",
      "[(10.000000000000002, 'Zaftig: The Case for Curves'), (10.000000000000002, \"You're My Baby (9 Months Later) (Harlequin Superromance, No. 1059)\"), (10.000000000000002, \"Yachtsman's Eight Language Dictionary: English, French, German, Dutch, Danish, Italian, Spanish, Portuguese\"), (10.000000000000002, 'World of Robert Bateman'), (10.000000000000002, 'Witchdame')]\n",
      "<<getRecommendations(prefsMore, '177432', sim_euclidean)[0:5]>>\n",
      "[(10.000000000000004, 'The Magic School Bus and the Electric Field Trip'), (10.000000000000004, 'The Drowned and the Saved'), (10.000000000000004, 'Southern Belle (Mira)'), (10.000000000000004, 'Sorrow Floats'), (10.000000000000004, 'Red Branch')]\n",
      "<<getRecommendations(prefsLess, '177432', sim_pearson)[0:5]>>\n",
      "[(10.000000000000002, \"Uncle John's Unstoppable Bathroom Reader (Bathroom Reader Series)\"), (10.000000000000002, 'Twelve Steps and Twelve Traditions'), (10.000000000000002, 'Traveling Light: Releasing the Burdens You Were Never Intended to Bear'), (10.000000000000002, \"The Woman Who Wouldn't Talk\"), (10.000000000000002, 'The Very Best Baby Name Book in the Whole Wide World')]\n",
      "<<getRecommendations(prefsMore, '177432', sim_pearson)[0:5]>>\n",
      "[(10.000000000000004, \"The Heart of a Woman (Oprah's Book Club (Hardcover))\"), (10.000000000000004, 'The Experiment (Animorphs'), (10.000000000000004, 'Notes to Myself: A Guided Journal (Guided Journals)'), (10.000000000000004, 'North and South (North and South Trilogy'), (10.000000000000004, 'Natural California: A Postcard Book')]\n",
      " \n",
      "<<getRecommendations(prefsLess, '180727', sim_euclidean)[0:5]>>\n",
      "[(10.000000000000002, 'Dune'), (10.000000000000002, 'Best Friends'), (10.000000000000002, 'All Creatures Great and Small'), (10.000000000000002, 'A Christmas Carol (Dover Thrift Editions)'), (10.000000000000002, '100 Selected Poems by E. E. Cummings')]\n",
      "<<getRecommendations(prefsMore, '180727', sim_euclidean)[0:5]>>\n",
      "[(10.000000000000002, \"Year's Best Fantasy and Horror\"), (10.000000000000002, 'When The Loving Stopped (Harlequin Romance'), (10.000000000000002, 'Watership Down (Scribner Classics)'), (10.000000000000002, 'Three Weeks with My Brother'), (10.000000000000002, \"The Year's Best Fantasy and Horror: Twelfth Annual Collection (Yeara's Best Fantasy &amp\")]\n",
      "<<getRecommendations(prefsLess, '180727', sim_pearson)[0:5]>>\n",
      "[(10.000000000000002, 'The Two Towers (The Lord of the Rings, Part 2)'), (10.000000000000002, 'The Return of the King (The Lord of the Rings, Part 3)'), (10.000000000000002, 'Hawaii'), (10.000000000000002, '1984'), (10.0, '\\xc2\\xa1Corre, perro, corre!')]\n",
      "<<getRecommendations(prefsMore, '180727', sim_pearson)[0:5]>>\n",
      "[(10.000000000000002, 'The War of the Worlds (Bantam Classics)'), (10.0, '\\xc2\\xa1Corre'), (10.0, 'Zen Gardening'), (10.0, 'Yvgenie'), (10.0, 'Youth in Revolt')]\n"
     ]
    }
   ],
   "source": [
    "\"\"\"\n",
    "Let's try to recommend 5 books to user 177432 and 180727.\n",
    "* Recommendations are all different.\n",
    "\"\"\"\n",
    "print \"<<getRecommendations(prefsLess, '177432', sim_euclidean)[0:5]>>\"\n",
    "print getRecommendations(prefsLess, '177432', sim_euclidean)[0:5]\n",
    "print \"<<getRecommendations(prefsMore, '177432', sim_euclidean)[0:5]>>\"\n",
    "print getRecommendations(prefsMore, '177432', sim_euclidean)[0:5]\n",
    "print \"<<getRecommendations(prefsLess, '177432', sim_pearson)[0:5]>>\"\n",
    "print getRecommendations(prefsLess, '177432', sim_pearson)[0:5]\n",
    "print \"<<getRecommendations(prefsMore, '177432', sim_pearson)[0:5]>>\"\n",
    "print getRecommendations(prefsMore, '177432', sim_pearson)[0:5]\n",
    "print \" \"\n",
    "print \"<<getRecommendations(prefsLess, '180727', sim_euclidean)[0:5]>>\"\n",
    "print getRecommendations(prefsLess, '180727', sim_euclidean)[0:5]\n",
    "print \"<<getRecommendations(prefsMore, '180727', sim_euclidean)[0:5]>>\"\n",
    "print getRecommendations(prefsMore, '180727', sim_euclidean)[0:5]\n",
    "print \"<<getRecommendations(prefsLess, '180727', sim_pearson)[0:5]>>\"\n",
    "print getRecommendations(prefsLess, '180727', sim_pearson)[0:5]\n",
    "print \"<<getRecommendations(prefsMore, '180727', sim_pearson)[0:5]>>\"\n",
    "print getRecommendations(prefsMore, '180727', sim_pearson)[0:5]"
   ]
  },
  {
   "cell_type": "code",
   "execution_count": 19,
   "metadata": {
    "collapsed": false
   },
   "outputs": [
    {
     "name": "stdout",
     "output_type": "stream",
     "text": [
      "<<topMatches(criticsLess, 'Drums of Autumn', 5, sim_euclidean)>>\n",
      "[(1.0, '\\\\Good Housekeeping\\\\ Soups and Starters'), (1.0, \"\\\\A Room of One's Own\\\\, and \\\\Three Guineas\\\\ (Oxford World's Classics)\"), (1.0, 'Zukunftsmarkt Business on Demand. Unternehmenserfolg durch st\\xc3?\\xc2\\xa4ndige Verf\\xc3?\\xc2\\xbcgbarkeit.'), (1.0, 'Zoya'), (1.0, \"Zest: Cosmopolitan's Health and Beauty Handbook\")]\n",
      "<<topMatches(criticsMore, 'Drums of Autumn', 5, sim_euclidean)>>\n",
      "[(1.0, 'christmas on snowbird mountain'), (1.0, 'bridegroom on her doorstep  (white weddings)'), (1.0, 'Zuleika Dobson (Modern Library (Paperback))'), (1.0, 'Zukunftsmarkt Business on Demand. Unternehmenserfolg durch st\\xc3?\\xc2\\xa4ndige Verf\\xc3?\\xc2\\xbcgbarkeit.'), (1.0, 'ZigZag: A Novel')]\n",
      "<<topMatches(criticsLess, 'Drums of Autumn', 5, sim_pearson)>>\n",
      "[(1.0, 'Year of Wonders'), (1.0, 'Velvet Angel'), (1.0, 'Twice Loved'), (1.0, 'Trying to Save Piggy Sneed'), (1.0, 'The Zebra Wall')]\n",
      "<<topMatches(criticsMore, 'Drums of Autumn', 5, sim_pearson)>>\n",
      "[(1.0000000000000255, 'Heart of a Warrior'), (1.000000000000016, 'The Unlikely Spy'), (1.000000000000016, \"Everything's Eventual : 14 Dark Tales\"), (1.0000000000000155, 'The Simple Truth'), (1.0000000000000133, 'Lady of Hay')]\n"
     ]
    }
   ],
   "source": [
    "\"\"\"\n",
    "If you give function topMatches a prefs matrix and an user as input, it returns top matched users.\n",
    "\n",
    "If you give function topMatches a critics matrix and a book title as input, it returns similar books.\n",
    "\n",
    "Let's try to find 5 similar books as 'Drums of Autumn'.\n",
    "* Only \"Zukunftsmarkt Business on Demand.\" appears twice using euclidean distance.\n",
    "\"\"\"\n",
    "print \"<<topMatches(criticsLess, 'Drums of Autumn', 5, sim_euclidean)>>\"\n",
    "print topMatches(criticsLess, 'Drums of Autumn', 5, sim_euclidean)\n",
    "print \"<<topMatches(criticsMore, 'Drums of Autumn', 5, sim_euclidean)>>\"\n",
    "print topMatches(criticsMore, 'Drums of Autumn', 5, sim_euclidean)\n",
    "print \"<<topMatches(criticsLess, 'Drums of Autumn', 5, sim_pearson)>>\"\n",
    "print topMatches(criticsLess, 'Drums of Autumn', 5, sim_pearson)\n",
    "print \"<<topMatches(criticsMore, 'Drums of Autumn', 5, sim_pearson)>>\"\n",
    "print topMatches(criticsMore, 'Drums of Autumn', 5, sim_pearson)"
   ]
  },
  {
   "cell_type": "code",
   "execution_count": 21,
   "metadata": {
    "collapsed": false
   },
   "outputs": [
    {
     "name": "stdout",
     "output_type": "stream",
     "text": [
      "<<getRecommendations(criticsLess, 'The Weight of Water', sim_euclidean)[0:5]>>\n",
      "[(10.000000000000002, '99085'), (10.000000000000002, '96635'), (10.000000000000002, '95375'), (10.000000000000002, '94025'), (10.000000000000002, '9219')]\n",
      "<<getRecommendations(criticsMore, 'The Weight of Water', sim_euclidean)[0:5]>>\n",
      "[(10.000000000000002, '98735'), (10.000000000000002, '97921'), (10.000000000000002, '97421'), (10.000000000000002, '97139'), (10.000000000000002, '94125')]\n",
      "<<getRecommendations(criticsLess, 'The Weight of Water', sim_pearson)[0:5]>>\n",
      "[(10.000000000000002, '92048'), (10.000000000000002, '211152'), (10.000000000000002, '198996'), (10.000000000000002, '156467'), (10.0, '99298')]\n",
      "<<getRecommendations(criticsMore, 'The Weight of Water', sim_pearson)[0:5]>>\n",
      "[(10.000000000000002, '99298'), (10.000000000000002, '98344'), (10.000000000000002, '78631'), (10.000000000000002, '43937'), (10.000000000000002, '41343')]\n"
     ]
    }
   ],
   "source": [
    "\"\"\"\n",
    "If you give function getRecommendations a prefs matrix and an user as input, it returns few book recommendations.\n",
    "\n",
    "If you give function getRecommendations a critics matrix and a book title as input, it returns few users who may \n",
    "want to read the book.\n",
    "\n",
    "Let's try to find 5 users who may want to read 'The Weight of Water'.\n",
    "* Recommendations are all different.\n",
    "\"\"\"\n",
    "print \"<<getRecommendations(criticsLess, 'The Weight of Water', sim_euclidean)[0:5]>>\"\n",
    "print getRecommendations(criticsLess, 'The Weight of Water', sim_euclidean)[0:5]\n",
    "print \"<<getRecommendations(criticsMore, 'The Weight of Water', sim_euclidean)[0:5]>>\"\n",
    "print getRecommendations(criticsMore, 'The Weight of Water', sim_euclidean)[0:5]\n",
    "print \"<<getRecommendations(criticsLess, 'The Weight of Water', sim_pearson)[0:5]>>\"\n",
    "print getRecommendations(criticsLess, 'The Weight of Water', sim_pearson)[0:5]\n",
    "print \"<<getRecommendations(criticsMore, 'The Weight of Water', sim_pearson)[0:5]>>\"\n",
    "print getRecommendations(criticsMore, 'The Weight of Water', sim_pearson)[0:5]"
   ]
  },
  {
   "cell_type": "code",
   "execution_count": null,
   "metadata": {
    "collapsed": true
   },
   "outputs": [],
   "source": [
    "\"\"\"\n",
    "Although Marcel Caraciolo's collaborative filtering algorithm is simple, it provide us many functionalities:\n",
    "* If you give function topMatches a prefs matrix and an user as input, it returns top matched users.\n",
    "* If you give function topMatches a critics matrix and a book title as input, it returns similar books.\n",
    "* If you give function getRecommendations a prefs matrix and an user as input, it returns few book recommendations.\n",
    "* If you give function getRecommendations a critics matrix and a book title as input, it returns few users who may \n",
    "want to read the book.\n",
    "\n",
    "However, it is difficult to jsutify if any recommendations are valid since:\n",
    "* The dataset is not ideally clean.\n",
    "* The dataset does not have enough information about users or books.\n",
    "* Marcel Caraciolo's approach does not make use of users' profile.\n",
    "\"\"\""
   ]
  }
 ],
 "metadata": {
  "anaconda-cloud": {},
  "kernelspec": {
   "display_name": "Python [default]",
   "language": "python",
   "name": "python2"
  },
  "language_info": {
   "codemirror_mode": {
    "name": "ipython",
    "version": 2
   },
   "file_extension": ".py",
   "mimetype": "text/x-python",
   "name": "python",
   "nbconvert_exporter": "python",
   "pygments_lexer": "ipython2",
   "version": "2.7.12"
  }
 },
 "nbformat": 4,
 "nbformat_minor": 0
}
