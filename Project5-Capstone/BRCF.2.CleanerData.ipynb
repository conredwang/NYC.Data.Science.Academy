{
 "cells": [
  {
   "cell_type": "code",
   "execution_count": 6,
   "metadata": {
    "collapsed": false
   },
   "outputs": [],
   "source": [
    "# BRCF.2.CleanerData.ipynb \n",
    "# Capture what Caraciolo's implementation used from BX-Books and BX-Book-Ratings\n",
    "# and save them in true comma-seaparate files: MC.Books.csv and MC.ratings.csv."
   ]
  },
  {
   "cell_type": "code",
   "execution_count": 1,
   "metadata": {
    "collapsed": true
   },
   "outputs": [],
   "source": [
    "import numpy as np\n",
    "import pandas as pd"
   ]
  },
  {
   "cell_type": "code",
   "execution_count": 2,
   "metadata": {
    "collapsed": false
   },
   "outputs": [],
   "source": [
    "def loadDataset(path=\"\"):\n",
    "\t\n",
    "\t#Recover the titles of the books\n",
    "\tfbooks = open(path+\"MC.Books.csv\", 'w')\n",
    "\tbooks = {}\n",
    "\tfor line in open(path+\"BX-Books.csv\"):\n",
    "\t\tline = line.replace('\"', \"\")\n",
    "\t\tline = line.replace(\"\\\\\",\"\")\n",
    "\t\tline = line.replace(\"\\n\",\"\")        \n",
    "\t\t(id,title) = line.split(\";\") [0:2]\n",
    "\t\tbooks[id] = title\n",
    "\t\tfbooks.write(id + ',' + title + '\\n')       \n",
    "\tfbooks.close()    \n",
    "\t\n",
    "\t#Load the data\n",
    "\tprefs = {}\n",
    "\tcountVal = 0\n",
    "\tcountKey = 0\n",
    "\tfratings = open(path+\"MC.Ratings.csv\", 'w')\n",
    "\tfor line in open(path+\"BX-Book-Ratings.csv\"):\n",
    "\t\tline = line.replace('\"', \"\")\n",
    "\t\tline = line.replace(\"\\\\\",\"\")\n",
    "\t\tline = line.replace(\"\\n\",\"\")        \n",
    "\t\t(user,bookid,rating) = line.split(\";\")\n",
    "\t\ttry:\n",
    "\t\t\tif float(rating) > 0.0:\n",
    "\t\t\t\tfratings.write(user + ',' + bookid + ',' + rating + '\\n')                                \n",
    "\t\t\t\tprefs.setdefault(user,{})\n",
    "\t\t\t\tprefs[user][books[bookid]] = float(rating)\n",
    "\t\texcept ValueError:\n",
    "\t\t\tcountVal+=1\n",
    "#\t\t\tprint \"value error found! \" + user + bookid + rating\n",
    "\t\texcept KeyError:\n",
    "\t\t\tcountKey +=1\n",
    "#\t\t\tprint \"key error found! \" + user + \" \" + bookid\n",
    "\tprint countVal\n",
    "\tprint countKey\n",
    "\tfratings.close()    \n",
    "\t\n",
    "\treturn 0\n"
   ]
  },
  {
   "cell_type": "code",
   "execution_count": 3,
   "metadata": {
    "collapsed": false
   },
   "outputs": [
    {
     "name": "stdout",
     "output_type": "stream",
     "text": [
      "1\n",
      "49818\n"
     ]
    },
    {
     "data": {
      "text/plain": [
       "0"
      ]
     },
     "execution_count": 3,
     "metadata": {},
     "output_type": "execute_result"
    }
   ],
   "source": [
    "loadDataset('data/')"
   ]
  },
  {
   "cell_type": "code",
   "execution_count": 3,
   "metadata": {
    "collapsed": true
   },
   "outputs": [],
   "source": [
    "# line count\n",
    "# BX-Books.csv = 271,380\n",
    "# MC.Books.csv = 271,380\n",
    "# BX-Book-Ratings.csv = 1,149,781\n",
    "#      MC.Ratings.csv =   433,671\n",
    "#\n",
    "# We also need to eliminate one line from MC.Ratings.csv with editor:\n",
    "# Line \"130499,,.0330486187,6\" as there are more than 3 fields"
   ]
  }
 ],
 "metadata": {
  "kernelspec": {
   "display_name": "Python 2",
   "language": "python",
   "name": "python2"
  },
  "language_info": {
   "codemirror_mode": {
    "name": "ipython",
    "version": 2
   },
   "file_extension": ".py",
   "mimetype": "text/x-python",
   "name": "python",
   "nbconvert_exporter": "python",
   "pygments_lexer": "ipython2",
   "version": "2.7.6"
  }
 },
 "nbformat": 4,
 "nbformat_minor": 0
}
