{
 "cells": [
  {
   "cell_type": "code",
   "execution_count": 6,
   "metadata": {
    "collapsed": false
   },
   "outputs": [],
   "source": [
    "# BRCF.3.VerifyData.ipynb \n",
    "# verify MC.Books.csv and MC.ratings.csv."
   ]
  },
  {
   "cell_type": "code",
   "execution_count": 1,
   "metadata": {
    "collapsed": true
   },
   "outputs": [],
   "source": [
    "import numpy as np\n",
    "import pandas as pd"
   ]
  },
  {
   "cell_type": "code",
   "execution_count": 2,
   "metadata": {
    "collapsed": false
   },
   "outputs": [],
   "source": [
    "def loadDataset(path=\"\"):\n",
    "\t\n",
    "\t#Recover the titles of the books\n",
    "\tbooks = {}\n",
    "\tfor line in open(path+\"MC.Books.csv\"):\n",
    "\t\tline = line.replace('\"', \"\")\n",
    "\t\tline = line.replace(\"\\\\\",\"\")\n",
    "\t\tline = line.replace(\"\\n\",\"\")        \n",
    "\t\t(id,title) = line.split(\",\")[0:2] \n",
    "\t\tbooks[id] = title\n",
    "\t\n",
    "\t#Load the data\n",
    "\tprefs = {}\n",
    "\tcountVal = 0\n",
    "\tcountKey = 0\n",
    "\tfor line in open(path+\"MC.Ratings.csv\"):\n",
    "\t\tline = line.replace('\"', \"\")\n",
    "\t\tline = line.replace(\"\\\\\",\"\")\n",
    "\t\tline = line.replace(\"\\n\",\"\")        \n",
    "\t\t(user,bookid,rating) = line.split(\",\")[0:3]\n",
    "\t\ttry:\n",
    "\t\t\tif float(rating) > 0.0:\n",
    "\t\t\t\tprefs.setdefault(user,{})\n",
    "\t\t\t\tprefs[user][books[bookid]] = float(rating)\n",
    "\t\texcept ValueError:\n",
    "\t\t\tcountVal += 1\n",
    "#\t\t\tprint \"value error found! \" + user + bookid + rating\n",
    "\t\texcept KeyError:\n",
    "\t\t\tcountKey += 1\n",
    "#\t\t\tprint \"key error found! \" + user + \" \" + bookid\n",
    "\tprint countVal\n",
    "\tprint countKey\n",
    "    \n",
    "\treturn prefs\n",
    "\n",
    "\n",
    "from math import sqrt\n",
    "\n",
    "#Returns a distance-base similarity score for person1 and person2\n",
    "\n",
    "def sim_distance(prefs, person1, person2):\n",
    "\t#Get the list of shared_items\n",
    "\tsi = {}\n",
    "\tfor item in prefs[person1]:\n",
    "\t\tif item in prefs[person2]:\n",
    "\t\t\tsi[item] = 1\n",
    "\n",
    "\t#if they have no rating in common, return 0\n",
    "\tif len(si) == 0: \n",
    "\t\treturn 0\n",
    "\n",
    "\t#Add up the squares of all differences\n",
    "\tsum_of_squares = sum([pow(prefs[person1][item]-prefs[person2][item],2) for item in prefs[person1] if item in prefs[person2]])\n",
    "\n",
    "\treturn 1 / (1 + sum_of_squares)\n",
    "\n",
    "\n",
    "#Returns the Pearson correlation coefficient for p1 and p2 \n",
    "def sim_pearson(prefs,p1,p2):\n",
    "\t#Get the list of mutually rated items\n",
    "\tsi = {}\n",
    "\tfor item in prefs[p1]:\n",
    "\t\tif item in prefs[p2]: \n",
    "\t\t\tsi[item] = 1\n",
    "\n",
    "\t#if they are no rating in common, return 0\n",
    "\tif len(si) == 0:\n",
    "\t\treturn 0\n",
    "\n",
    "\t#sum calculations\n",
    "\tn = len(si)\n",
    "\n",
    "\t#sum of all preferences\n",
    "\tsum1 = sum([prefs[p1][it] for it in si])\n",
    "\tsum2 = sum([prefs[p2][it] for it in si])\n",
    "\n",
    "\t#Sum of the squares\n",
    "\tsum1Sq = sum([pow(prefs[p1][it],2) for it in si])\n",
    "\tsum2Sq = sum([pow(prefs[p2][it],2) for it in si])\n",
    "\n",
    "\t#Sum of the products\n",
    "\tpSum = sum([prefs[p1][it] * prefs[p2][it] for it in si])\n",
    "\n",
    "\t#Calculate r (Pearson score)\n",
    "\tnum = pSum - (sum1 * sum2/n)\n",
    "\tden = sqrt((sum1Sq - pow(sum1,2)/n) * (sum2Sq - pow(sum2,2)/n))\n",
    "\tif den == 0:\n",
    "\t\treturn 0\n",
    "\n",
    "\tr = num/den\n",
    "\n",
    "\treturn r\n",
    "\n",
    "#Returns the best matches for person from the prefs dictionary\n",
    "#Number of the results and similiraty function are optional params.\n",
    "def topMatches(prefs,person,n=5,similarity=sim_pearson):\n",
    "\tscores = [(similarity(prefs,person,other),other)\n",
    "\t\t\t\tfor other in prefs if other != person]\n",
    "\tscores.sort()\n",
    "\tscores.reverse()\n",
    "\treturn scores[0:n]\n",
    "\n",
    "\n",
    "#Gets recommendations for a person by using a weighted average\n",
    "#of every other user's rankings\n",
    "\n",
    "def getRecommendations(prefs,person,similarity=sim_pearson):\n",
    "\ttotals = {}\n",
    "\tsimSums = {}\n",
    "\n",
    "\tfor other in prefs:\n",
    "\t\t#don't compare me to myself\n",
    "\t\tif other == person:\n",
    "\t\t\tcontinue\n",
    "\t\tsim = similarity(prefs,person,other)\n",
    "\n",
    "\t\t#ignore scores of zero or lower\n",
    "\t\tif sim <= 0: \n",
    "\t\t\tcontinue\n",
    "\t\tfor item in prefs[other]:\n",
    "\t\t\t#only score books i haven't seen yet\n",
    "\t\t\tif item not in prefs[person] or prefs[person][item] == 0:\n",
    "\t\t\t\t#Similarity * score\n",
    "\t\t\t\ttotals.setdefault(item,0)\n",
    "\t\t\t\ttotals[item] += prefs[other][item] * sim\n",
    "\t\t\t\t#Sum of similarities\n",
    "\t\t\t\tsimSums.setdefault(item,0)\n",
    "\t\t\t\tsimSums[item] += sim\n",
    "\n",
    "\t#Create the normalized list\n",
    "\trankings = [(total/simSums[item],item) for item,total in totals.items()]\n",
    "\n",
    "\t#Return the sorted list\n",
    "\trankings.sort()\n",
    "\trankings.reverse()\n",
    "\treturn rankings\n",
    "\n",
    "\n",
    "#Function to transform Person, item - > Item, person\n",
    "def transformPrefs(prefs):\n",
    "\tresults = {}\n",
    "\tfor person in prefs:\n",
    "\t\tfor item in prefs[person]:\n",
    "\t\t\tresults.setdefault(item,{})\n",
    "\n",
    "\t\t\t#Flip item and person\n",
    "\t\t\tresults[item][person] = prefs[person][item]\n",
    "\treturn results\n"
   ]
  },
  {
   "cell_type": "code",
   "execution_count": 3,
   "metadata": {
    "collapsed": false
   },
   "outputs": [
    {
     "name": "stdout",
     "output_type": "stream",
     "text": [
      "0\n",
      "49817\n"
     ]
    }
   ],
   "source": [
    "prefs = loadDataset('data/')"
   ]
  },
  {
   "cell_type": "code",
   "execution_count": 4,
   "metadata": {
    "collapsed": false
   },
   "outputs": [
    {
     "name": "stdout",
     "output_type": "stream",
     "text": [
      "prefs['98556'] :  {'Foundation (Foundation Novels (Paperback))': 7.0}\n",
      "prefs['180727'] :  {'Foundation (Foundation Novels (Paperback))': 3.0, 'Brave New World': 6.0, 'Jeeves in the morning (Perennial library)': 7.0, 'Foundation and Empire (Foundation Novels (Paperback))': 4.0, \"Foundation's Edge : The Foundation Novels (Foundation Novels (Paperback))\": 3.0, 'Second Foundation (Foundation Novels (Paperback))': 4.0}\n"
     ]
    },
    {
     "data": {
      "text/plain": [
       "False"
      ]
     },
     "execution_count": 4,
     "metadata": {},
     "output_type": "execute_result"
    }
   ],
   "source": [
    "len(prefs)\n",
    "print \"prefs['98556'] : \", prefs['98556']\n",
    "print \"prefs['180727'] : \", prefs['180727']\n",
    "prefs.has_key('276725') # first User_ID in BX-Book-Ratings.csv"
   ]
  },
  {
   "cell_type": "code",
   "execution_count": 5,
   "metadata": {
    "collapsed": false
   },
   "outputs": [
    {
     "data": {
      "text/plain": [
       "0.058823529411764705"
      ]
     },
     "execution_count": 5,
     "metadata": {},
     "output_type": "execute_result"
    }
   ],
   "source": [
    "# clean data produced same sim_distance as shown in the article. \n",
    "sim_distance(prefs, '98556', '180727')"
   ]
  },
  {
   "cell_type": "code",
   "execution_count": 6,
   "metadata": {
    "collapsed": false
   },
   "outputs": [
    {
     "data": {
      "text/plain": [
       "0.6622661785325219"
      ]
     },
     "execution_count": 6,
     "metadata": {},
     "output_type": "execute_result"
    }
   ],
   "source": [
    "# clean data produced same sim_pearson as shown in the article. \n",
    "sim_pearson(prefs,'180727', '177432')"
   ]
  },
  {
   "cell_type": "code",
   "execution_count": 7,
   "metadata": {
    "collapsed": false
   },
   "outputs": [
    {
     "data": {
      "text/plain": [
       "[(1.0, '69721'),\n",
       " (1.0, '28667'),\n",
       " (1.0, '224646'),\n",
       " (1.0, '182212'),\n",
       " (1.0, '11676'),\n",
       " (0.5, '4157'),\n",
       " (0.5, '28729'),\n",
       " (0.5, '224650'),\n",
       " (0.5, '199616'),\n",
       " (0.5, '189139')]"
      ]
     },
     "execution_count": 7,
     "metadata": {},
     "output_type": "execute_result"
    }
   ],
   "source": [
    "# clean data produced same 10 topMatches as shown in the article. \n",
    "topMatches(prefs, '98556', 10, sim_distance)"
   ]
  },
  {
   "cell_type": "code",
   "execution_count": 8,
   "metadata": {
    "collapsed": false
   },
   "outputs": [
    {
     "data": {
      "text/plain": [
       "[(1.0, '189139'), (1.0, '11676'), (0.6622661785325219, '177432')]"
      ]
     },
     "execution_count": 8,
     "metadata": {},
     "output_type": "execute_result"
    }
   ],
   "source": [
    "# clean data produced same 3 topMatches as shown in the article. \n",
    "topMatches(prefs, '180727', 3)"
   ]
  },
  {
   "cell_type": "code",
   "execution_count": 9,
   "metadata": {
    "collapsed": false
   },
   "outputs": [
    {
     "data": {
      "text/plain": [
       "[(10.000000000000002, 'The Two Towers (The Lord of the Rings'),\n",
       " (10.000000000000002, 'The Return of the King (The Lord of the Rings'),\n",
       " (10.000000000000002, 'Hawaii')]"
      ]
     },
     "execution_count": 9,
     "metadata": {},
     "output_type": "execute_result"
    }
   ],
   "source": [
    "# clean data produced same 3 getRecommendations as shown in the article.\n",
    "getRecommendations(prefs,'180727')[0:3]"
   ]
  },
  {
   "cell_type": "code",
   "execution_count": 10,
   "metadata": {
    "collapsed": false
   },
   "outputs": [
    {
     "data": {
      "text/plain": [
       "[(10.000000000000002, 'Dune'),\n",
       " (10.000000000000002, 'Best Friends'),\n",
       " (10.000000000000002, 'All Creatures Great and Small'),\n",
       " (10.000000000000002, 'A Christmas Carol (Dover Thrift Editions)')]"
      ]
     },
     "execution_count": 10,
     "metadata": {},
     "output_type": "execute_result"
    }
   ],
   "source": [
    "# clean data produced same 4 getRecommendations as shown in the article.\n",
    "getRecommendations(prefs,'180727', similarity=sim_distance)[0:4] "
   ]
  },
  {
   "cell_type": "code",
   "execution_count": 11,
   "metadata": {
    "collapsed": false
   },
   "outputs": [],
   "source": [
    "critics = transformPrefs(prefs)"
   ]
  },
  {
   "cell_type": "code",
   "execution_count": 12,
   "metadata": {
    "collapsed": false
   },
   "outputs": [
    {
     "name": "stdout",
     "output_type": "stream",
     "text": [
      "77805\n",
      "133597\n"
     ]
    }
   ],
   "source": [
    "print len(prefs)\n",
    "print len(critics)"
   ]
  },
  {
   "cell_type": "code",
   "execution_count": 12,
   "metadata": {
    "collapsed": false
   },
   "outputs": [
    {
     "data": {
      "text/plain": [
       "[(1.0, 'Year of Wonders'),\n",
       " (1.0, 'Velvet Angel'),\n",
       " (1.0, 'Twice Loved'),\n",
       " (1.0, 'Trying to Save Piggy Sneed'),\n",
       " (1.0, 'The Zebra Wall')]"
      ]
     },
     "execution_count": 12,
     "metadata": {},
     "output_type": "execute_result"
    }
   ],
   "source": [
    "# clean data produced same topMatches as shown in the article.\n",
    "topMatches(critics,'Drums of Autumn')"
   ]
  },
  {
   "cell_type": "code",
   "execution_count": 13,
   "metadata": {
    "collapsed": false
   },
   "outputs": [
    {
     "data": {
      "text/plain": [
       "[(10.000000000000002, '92048'),\n",
       " (10.000000000000002, '211152'),\n",
       " (10.000000000000002, '198996'),\n",
       " (10.000000000000002, '156467'),\n",
       " (10.0, '99298')]"
      ]
     },
     "execution_count": 13,
     "metadata": {},
     "output_type": "execute_result"
    }
   ],
   "source": [
    "# clean data produced same getRecommendations as shown in the article.\n",
    "getRecommendations(critics,'The Weight of Water')[0:5]"
   ]
  },
  {
   "cell_type": "code",
   "execution_count": null,
   "metadata": {
    "collapsed": true
   },
   "outputs": [],
   "source": [
    "# MC.Books.csv and MC.Ratings.csv produced same results as shown in Caraciolo's article. "
   ]
  }
 ],
 "metadata": {
  "kernelspec": {
   "display_name": "Python 2",
   "language": "python",
   "name": "python2"
  },
  "language_info": {
   "codemirror_mode": {
    "name": "ipython",
    "version": 2
   },
   "file_extension": ".py",
   "mimetype": "text/x-python",
   "name": "python",
   "nbconvert_exporter": "python",
   "pygments_lexer": "ipython2",
   "version": "2.7.6"
  }
 },
 "nbformat": 4,
 "nbformat_minor": 0
}
