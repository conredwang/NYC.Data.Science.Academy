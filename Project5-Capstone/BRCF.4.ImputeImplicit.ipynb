{
 "cells": [
  {
   "cell_type": "code",
   "execution_count": 6,
   "metadata": {
    "collapsed": false
   },
   "outputs": [],
   "source": [
    "# BRCF.4.ImputeImplicit.ipynb\n",
    "# Create Good.Ratings.csv which replace zero ratings with average ratings if available."
   ]
  },
  {
   "cell_type": "code",
   "execution_count": 1,
   "metadata": {
    "collapsed": true
   },
   "outputs": [],
   "source": [
    "import numpy as np\n",
    "import pandas as pd"
   ]
  },
  {
   "cell_type": "code",
   "execution_count": 2,
   "metadata": {
    "collapsed": false
   },
   "outputs": [],
   "source": [
    "# Need to again delete MC.Ratings.csv line #287,498 \"178195,1/9565,000229,10\"\n",
    "# Header line from BX-Book-Ratings.csv has been added back to MC.Ratings.csv with comma as separator\n",
    "df = pd.read_csv(\"data/MC.Ratings.csv\")"
   ]
  },
  {
   "cell_type": "code",
   "execution_count": 3,
   "metadata": {
    "collapsed": false
   },
   "outputs": [],
   "source": [
    "# Further clean ISBN\n",
    "df.ISBN = df.ISBN.str.replace(r'[^\\w\\d]+', '')"
   ]
  },
  {
   "cell_type": "code",
   "execution_count": 4,
   "metadata": {
    "collapsed": false
   },
   "outputs": [],
   "source": [
    "# Compute average rating for each ISBN from available non-zero ratings.\n",
    "avg_ratings = df.groupby('ISBN')['Book-Rating'].mean().round().astype(np.int8)"
   ]
  },
  {
   "cell_type": "code",
   "execution_count": 5,
   "metadata": {
    "collapsed": false
   },
   "outputs": [
    {
     "data": {
      "text/plain": [
       "185811"
      ]
     },
     "execution_count": 5,
     "metadata": {},
     "output_type": "execute_result"
    }
   ],
   "source": [
    "len(avg_ratings)"
   ]
  },
  {
   "cell_type": "code",
   "execution_count": 6,
   "metadata": {
    "collapsed": true
   },
   "outputs": [],
   "source": [
    "def useAvgRatings(path=\"\") :\n",
    "\tcountVal = 0\n",
    "\tcountKey = 0\n",
    "\tcount1 = 0\n",
    "\tcount2 = 0\n",
    "\tcount3 = 0\n",
    "\tcount4 = 0    \n",
    "\tcount5 = 0  \n",
    "\tfratings = open(path+\"Good.Ratings.csv\", 'w')\n",
    "\tfor line in open(path+\"BX-Book-Ratings.csv\"):\n",
    "\t\tcount1+=1        \n",
    "\t\tline = line.replace('\"', \"\")\n",
    "\t\tline = line.replace(\"\\\\\",\"\")\n",
    "\t\tline = line.replace(\"\\n\",\"\")        \n",
    "\t\t(user,bookid,rating) = line.split(\";\")\n",
    "\t\ttry:\n",
    "\t\t\tif float(rating) > 0.0: # has user rating\n",
    "\t\t\t\tcount2+=1 \n",
    "\t\t\telse :\n",
    "\t\t\t\tif bookid in avg_ratings :\n",
    "\t\t\t\t\trating = avg_ratings[bookid].astype('str')\n",
    "\t\t\t\t\tcount3+=1                    \n",
    "\t\t\t\telse :\n",
    "\t\t\t\t\trating = '0'\n",
    "\t\t\t\t\tcount4+=1                                        \n",
    "\t\t\tfratings.write(user + ',' + bookid + ',' + rating + '\\n')\n",
    "\t\t\tcount5+=1            \n",
    "\t\texcept ValueError:\n",
    "\t\t\tcountVal+=1\n",
    "#\t\t\tprint \"value error found! \" + user + bookid + rating\n",
    "\t\texcept KeyError:\n",
    "\t\t\tcountKey +=1\n",
    "#\t\t\tprint \"key error found! \" + user + \" \" + bookid\n",
    "\tprint countVal\n",
    "\tprint countKey\n",
    "\tprint count1  \n",
    "\tprint count2 \n",
    "\tprint count3 \n",
    "\tprint count4 \n",
    "\tprint count5 \n",
    "\tfratings.close()    \n",
    "\t\n",
    "\treturn 0"
   ]
  },
  {
   "cell_type": "code",
   "execution_count": 7,
   "metadata": {
    "collapsed": false
   },
   "outputs": [
    {
     "name": "stdout",
     "output_type": "stream",
     "text": [
      "1\n",
      "0\n",
      "1149781\n",
      "433671\n",
      "494024\n",
      "222085\n",
      "1149780\n"
     ]
    },
    {
     "data": {
      "text/plain": [
       "0"
      ]
     },
     "execution_count": 7,
     "metadata": {},
     "output_type": "execute_result"
    }
   ],
   "source": [
    "useAvgRatings('data/')"
   ]
  },
  {
   "cell_type": "code",
   "execution_count": null,
   "metadata": {
    "collapsed": true
   },
   "outputs": [],
   "source": [
    "# We read 1,149,781 from BX-Book-Ratings.csv.\n",
    "# 433,671 have non-zero ratings; thus, no impute needed.\n",
    "# We use average ratings for 494,024 records.\n",
    "# We can only use zero rating for 222,085 records as buyers of those books not provide rating.\n",
    "# We wrote 1,149,780 records to Good.ratings.csv\n",
    "#\n",
    "# Thus, we double ratings available for building CF."
   ]
  }
 ],
 "metadata": {
  "anaconda-cloud": {},
  "kernelspec": {
   "display_name": "Python [default]",
   "language": "python",
   "name": "python2"
  },
  "language_info": {
   "codemirror_mode": {
    "name": "ipython",
    "version": 2
   },
   "file_extension": ".py",
   "mimetype": "text/x-python",
   "name": "python",
   "nbconvert_exporter": "python",
   "pygments_lexer": "ipython2",
   "version": "2.7.12"
  }
 },
 "nbformat": 4,
 "nbformat_minor": 0
}
